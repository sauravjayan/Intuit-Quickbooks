{
 "cells": [
  {
   "cell_type": "markdown",
   "metadata": {},
   "source": [
    "# Intuit Quickbooks Upgrade\n",
    "\n",
    "* Team-lead GitLab userid:\n",
    "* Group name:\n",
    "* Team member names:"
   ]
  },
  {
   "cell_type": "markdown",
   "metadata": {},
   "source": [
    "## Setup\n",
    "\n",
    "Please complete this python notebook with your group by answering the questions in `intuit.pdf`. Create a Notebook and HTML file with all your results and comments and push both the Notebook and HTML file to GitLab when your team is done. All results MUST be reproducible (i.e., the TA and I must be able to recreate the HTML file from the Jupyter Notebook without changes or errors). This means that you should NOT use any python-packages that are not part of the rsm-msba-spark docker container.\n",
    "\n",
    "This is the first group assignment for MGTA 455 and you will be using Git and GitLab. If two people edit the same file at the same time you could get what is called a \"merge conflict\". This is not something serious but you should realize that Git will not decide for you who's change to accept so the team-lead will have to determine the edits to use. To avoid merge conflicts, **always** \"pull\" changes to the repo before you start working on any files. Then, when you are done, save and commit your changes, and then push them to GitLab. Make \"pull first\" a habit!\n",
    "\n",
    "If multiple people are going to work on the assignment at the same time I recommend you work in different notebooks. You can then `%run ...`  these \"sub\" notebooks from the main assignment file. You can seen an example of this in action below for the `question1.ipynb` notebook\n",
    "\n",
    "Some group work-flow tips:\n",
    "\n",
    "* Pull, edit, save, stage, commit, and push\n",
    "* Schedule who does what and when\n",
    "* Try to avoid working simultaneously on the same file \n",
    "* If you are going to work simultaneously, do it in different notebooks, e.g., \n",
    "    - question1.ipynb, question2.ipynb, question3.ipynb\n",
    "* Use the `%run ... ` command to bring different pieces of code together into the main jupyter notebook\n",
    "* Put python functions in modules that you can import from your notebooks. See the example below for the `example` function defined in `utils/functions.py`\n",
    "\n",
    "A graphical depiction of the group work-flow is shown below:\n",
    "\n",
    "![](images/git-group-workflow-wbg.png)\n",
    "\n",
    "Tutorial videos about using Git, GitLab, and GitGadget for group assignments:\n",
    "\n",
    "* Setup the MSBA server to use Git and GitLab: https://youtu.be/zJHwodmjatY\n",
    "* Dealing with Merge Conflicts: https://youtu.be/qFnyb8_rgTI\n",
    "* Group assignment practice: https://youtu.be/4Ty_94gIWeA"
   ]
  },
  {
   "cell_type": "code",
   "execution_count": 1,
   "metadata": {},
   "outputs": [],
   "source": [
    "import matplotlib as mpl\n",
    "import matplotlib.pyplot as plt\n",
    "import numpy as np\n",
    "import pandas as pd\n",
    "import pyrsm as rsm\n",
    "import statsmodels.formula.api as smf\n",
    "from sklearn import preprocessing\n",
    "from statsmodels.genmod.families import Binomial\n",
    "from statsmodels.genmod.families.links import logit\n",
    "import seaborn as sns\n",
    "from sklearn.datasets import load_breast_cancer\n",
    "from sklearn.linear_model import LogisticRegression\n",
    "from sklearn.metrics import roc_auc_score\n"
   ]
  },
  {
   "cell_type": "code",
   "execution_count": 2,
   "metadata": {},
   "outputs": [
    {
     "data": {
      "text/html": [
       "<div>\n",
       "<style scoped>\n",
       "    .dataframe tbody tr th:only-of-type {\n",
       "        vertical-align: middle;\n",
       "    }\n",
       "\n",
       "    .dataframe tbody tr th {\n",
       "        vertical-align: top;\n",
       "    }\n",
       "\n",
       "    .dataframe thead th {\n",
       "        text-align: right;\n",
       "    }\n",
       "</style>\n",
       "<table border=\"1\" class=\"dataframe\">\n",
       "  <thead>\n",
       "    <tr style=\"text-align: right;\">\n",
       "      <th></th>\n",
       "      <th>id</th>\n",
       "      <th>zip</th>\n",
       "      <th>zip_bins</th>\n",
       "      <th>sex</th>\n",
       "      <th>bizflag</th>\n",
       "      <th>numords</th>\n",
       "      <th>dollars</th>\n",
       "      <th>last</th>\n",
       "      <th>sincepurch</th>\n",
       "      <th>version1</th>\n",
       "      <th>owntaxprod</th>\n",
       "      <th>upgraded</th>\n",
       "      <th>res1</th>\n",
       "      <th>training</th>\n",
       "      <th>res1_yes</th>\n",
       "    </tr>\n",
       "  </thead>\n",
       "  <tbody>\n",
       "    <tr>\n",
       "      <th>0</th>\n",
       "      <td>1</td>\n",
       "      <td>94553</td>\n",
       "      <td>18</td>\n",
       "      <td>Male</td>\n",
       "      <td>0</td>\n",
       "      <td>2</td>\n",
       "      <td>109.5</td>\n",
       "      <td>5</td>\n",
       "      <td>12</td>\n",
       "      <td>0</td>\n",
       "      <td>0</td>\n",
       "      <td>0</td>\n",
       "      <td>No</td>\n",
       "      <td>1</td>\n",
       "      <td>0</td>\n",
       "    </tr>\n",
       "    <tr>\n",
       "      <th>1</th>\n",
       "      <td>2</td>\n",
       "      <td>53190</td>\n",
       "      <td>10</td>\n",
       "      <td>Unknown</td>\n",
       "      <td>0</td>\n",
       "      <td>1</td>\n",
       "      <td>69.5</td>\n",
       "      <td>4</td>\n",
       "      <td>3</td>\n",
       "      <td>0</td>\n",
       "      <td>0</td>\n",
       "      <td>0</td>\n",
       "      <td>No</td>\n",
       "      <td>0</td>\n",
       "      <td>0</td>\n",
       "    </tr>\n",
       "    <tr>\n",
       "      <th>2</th>\n",
       "      <td>3</td>\n",
       "      <td>37091</td>\n",
       "      <td>8</td>\n",
       "      <td>Male</td>\n",
       "      <td>0</td>\n",
       "      <td>4</td>\n",
       "      <td>93.0</td>\n",
       "      <td>14</td>\n",
       "      <td>29</td>\n",
       "      <td>0</td>\n",
       "      <td>0</td>\n",
       "      <td>1</td>\n",
       "      <td>No</td>\n",
       "      <td>0</td>\n",
       "      <td>0</td>\n",
       "    </tr>\n",
       "    <tr>\n",
       "      <th>3</th>\n",
       "      <td>4</td>\n",
       "      <td>02125</td>\n",
       "      <td>1</td>\n",
       "      <td>Male</td>\n",
       "      <td>0</td>\n",
       "      <td>1</td>\n",
       "      <td>22.0</td>\n",
       "      <td>17</td>\n",
       "      <td>1</td>\n",
       "      <td>0</td>\n",
       "      <td>0</td>\n",
       "      <td>0</td>\n",
       "      <td>No</td>\n",
       "      <td>1</td>\n",
       "      <td>0</td>\n",
       "    </tr>\n",
       "    <tr>\n",
       "      <th>4</th>\n",
       "      <td>5</td>\n",
       "      <td>60201</td>\n",
       "      <td>11</td>\n",
       "      <td>Male</td>\n",
       "      <td>0</td>\n",
       "      <td>1</td>\n",
       "      <td>24.5</td>\n",
       "      <td>2</td>\n",
       "      <td>3</td>\n",
       "      <td>0</td>\n",
       "      <td>0</td>\n",
       "      <td>0</td>\n",
       "      <td>No</td>\n",
       "      <td>0</td>\n",
       "      <td>0</td>\n",
       "    </tr>\n",
       "  </tbody>\n",
       "</table>\n",
       "</div>"
      ],
      "text/plain": [
       "   id    zip  zip_bins      sex  bizflag  numords  dollars  last  sincepurch  \\\n",
       "0   1  94553        18     Male        0        2    109.5     5          12   \n",
       "1   2  53190        10  Unknown        0        1     69.5     4           3   \n",
       "2   3  37091         8     Male        0        4     93.0    14          29   \n",
       "3   4  02125         1     Male        0        1     22.0    17           1   \n",
       "4   5  60201        11     Male        0        1     24.5     2           3   \n",
       "\n",
       "   version1  owntaxprod  upgraded res1  training  res1_yes  \n",
       "0         0           0         0   No         1         0  \n",
       "1         0           0         0   No         0         0  \n",
       "2         0           0         1   No         0         0  \n",
       "3         0           0         0   No         1         0  \n",
       "4         0           0         0   No         0         0  "
      ]
     },
     "execution_count": 2,
     "metadata": {},
     "output_type": "execute_result"
    }
   ],
   "source": [
    "## loading the data - this dataset must NOT be changed\n",
    "intuit75k = pd.read_pickle(\"data/intuit75k.pkl\")\n",
    "intuit75k[\"res1_yes\"] = (intuit75k[\"res1\"] == \"Yes\").astype(int)\n",
    "intuit75k.head()"
   ]
  },
  {
   "cell_type": "code",
   "execution_count": 3,
   "metadata": {},
   "outputs": [],
   "source": [
    "intuit75k.to_csv('intuit.csv')"
   ]
  },
  {
   "cell_type": "code",
   "execution_count": 4,
   "metadata": {},
   "outputs": [
    {
     "data": {
      "application/vnd.jupyter.widget-view+json": {
       "model_id": "6c4b214449824f24b46ed3373f5588d4",
       "version_major": 2,
       "version_minor": 0
      },
      "text/plain": [
       "QgridWidget(grid_options={'fullWidthRows': True, 'syncColumnCellResize': True, 'forceFitColumns': True, 'defau…"
      ]
     },
     "metadata": {},
     "output_type": "display_data"
    }
   ],
   "source": [
    "# Seeing the data\n",
    "import qgrid\n",
    "\n",
    "qgrid.show_grid(intuit75k.loc[:, :])"
   ]
  },
  {
   "cell_type": "code",
   "execution_count": 5,
   "metadata": {},
   "outputs": [
    {
     "data": {
      "text/plain": [
       "id               int32\n",
       "zip             object\n",
       "zip_bins         int32\n",
       "sex           category\n",
       "bizflag          int32\n",
       "numords          int32\n",
       "dollars        float64\n",
       "last             int32\n",
       "sincepurch       int32\n",
       "version1         int32\n",
       "owntaxprod       int32\n",
       "upgraded         int32\n",
       "res1          category\n",
       "training         int32\n",
       "res1_yes         int64\n",
       "dtype: object"
      ]
     },
     "execution_count": 5,
     "metadata": {},
     "output_type": "execute_result"
    }
   ],
   "source": [
    "# checking datatypes\n",
    "intuit75k.dtypes"
   ]
  },
  {
   "cell_type": "code",
   "execution_count": 6,
   "metadata": {},
   "outputs": [],
   "source": [
    "# Converting 1/0 variables to categorical\n",
    "intuit75k[\"zip_bins\"] = pd.Categorical(intuit75k[\"zip_bins\"])\n",
    "intuit75k[\"id\"] = pd.Categorical(intuit75k[\"id\"])"
   ]
  },
  {
   "cell_type": "code",
   "execution_count": 7,
   "metadata": {},
   "outputs": [
    {
     "data": {
      "text/html": [
       "<div>\n",
       "<style scoped>\n",
       "    .dataframe tbody tr th:only-of-type {\n",
       "        vertical-align: middle;\n",
       "    }\n",
       "\n",
       "    .dataframe tbody tr th {\n",
       "        vertical-align: top;\n",
       "    }\n",
       "\n",
       "    .dataframe thead th {\n",
       "        text-align: right;\n",
       "    }\n",
       "</style>\n",
       "<table border=\"1\" class=\"dataframe\">\n",
       "  <thead>\n",
       "    <tr style=\"text-align: right;\">\n",
       "      <th></th>\n",
       "      <th>bizflag</th>\n",
       "      <th>numords</th>\n",
       "      <th>dollars</th>\n",
       "      <th>last</th>\n",
       "      <th>sincepurch</th>\n",
       "      <th>version1</th>\n",
       "      <th>owntaxprod</th>\n",
       "      <th>upgraded</th>\n",
       "      <th>training</th>\n",
       "      <th>res1_yes</th>\n",
       "    </tr>\n",
       "  </thead>\n",
       "  <tbody>\n",
       "    <tr>\n",
       "      <th>bizflag</th>\n",
       "      <td>1.000000</td>\n",
       "      <td>0.000197</td>\n",
       "      <td>0.002038</td>\n",
       "      <td>-0.000390</td>\n",
       "      <td>-0.005220</td>\n",
       "      <td>-0.006011</td>\n",
       "      <td>0.004565</td>\n",
       "      <td>-0.003080</td>\n",
       "      <td>-0.003159</td>\n",
       "      <td>0.000793</td>\n",
       "    </tr>\n",
       "    <tr>\n",
       "      <th>numords</th>\n",
       "      <td>0.000197</td>\n",
       "      <td>1.000000</td>\n",
       "      <td>0.585654</td>\n",
       "      <td>-0.130356</td>\n",
       "      <td>0.001763</td>\n",
       "      <td>0.005728</td>\n",
       "      <td>0.119726</td>\n",
       "      <td>-0.002755</td>\n",
       "      <td>-0.006790</td>\n",
       "      <td>0.093512</td>\n",
       "    </tr>\n",
       "    <tr>\n",
       "      <th>dollars</th>\n",
       "      <td>0.002038</td>\n",
       "      <td>0.585654</td>\n",
       "      <td>1.000000</td>\n",
       "      <td>-0.074659</td>\n",
       "      <td>0.000815</td>\n",
       "      <td>0.002217</td>\n",
       "      <td>0.074988</td>\n",
       "      <td>-0.001420</td>\n",
       "      <td>-0.007628</td>\n",
       "      <td>0.067876</td>\n",
       "    </tr>\n",
       "    <tr>\n",
       "      <th>last</th>\n",
       "      <td>-0.000390</td>\n",
       "      <td>-0.130356</td>\n",
       "      <td>-0.074659</td>\n",
       "      <td>1.000000</td>\n",
       "      <td>-0.001169</td>\n",
       "      <td>0.002018</td>\n",
       "      <td>-0.019854</td>\n",
       "      <td>-0.000192</td>\n",
       "      <td>0.002887</td>\n",
       "      <td>-0.089597</td>\n",
       "    </tr>\n",
       "    <tr>\n",
       "      <th>sincepurch</th>\n",
       "      <td>-0.005220</td>\n",
       "      <td>0.001763</td>\n",
       "      <td>0.000815</td>\n",
       "      <td>-0.001169</td>\n",
       "      <td>1.000000</td>\n",
       "      <td>0.524144</td>\n",
       "      <td>-0.001149</td>\n",
       "      <td>0.511277</td>\n",
       "      <td>-0.006168</td>\n",
       "      <td>0.078900</td>\n",
       "    </tr>\n",
       "    <tr>\n",
       "      <th>version1</th>\n",
       "      <td>-0.006011</td>\n",
       "      <td>0.005728</td>\n",
       "      <td>0.002217</td>\n",
       "      <td>0.002018</td>\n",
       "      <td>0.524144</td>\n",
       "      <td>1.000000</td>\n",
       "      <td>-0.084814</td>\n",
       "      <td>-0.267716</td>\n",
       "      <td>-0.003192</td>\n",
       "      <td>0.043701</td>\n",
       "    </tr>\n",
       "    <tr>\n",
       "      <th>owntaxprod</th>\n",
       "      <td>0.004565</td>\n",
       "      <td>0.119726</td>\n",
       "      <td>0.074988</td>\n",
       "      <td>-0.019854</td>\n",
       "      <td>-0.001149</td>\n",
       "      <td>-0.084814</td>\n",
       "      <td>1.000000</td>\n",
       "      <td>0.087418</td>\n",
       "      <td>-0.000593</td>\n",
       "      <td>0.029017</td>\n",
       "    </tr>\n",
       "    <tr>\n",
       "      <th>upgraded</th>\n",
       "      <td>-0.003080</td>\n",
       "      <td>-0.002755</td>\n",
       "      <td>-0.001420</td>\n",
       "      <td>-0.000192</td>\n",
       "      <td>0.511277</td>\n",
       "      <td>-0.267716</td>\n",
       "      <td>0.087418</td>\n",
       "      <td>1.000000</td>\n",
       "      <td>-0.004535</td>\n",
       "      <td>0.066733</td>\n",
       "    </tr>\n",
       "    <tr>\n",
       "      <th>training</th>\n",
       "      <td>-0.003159</td>\n",
       "      <td>-0.006790</td>\n",
       "      <td>-0.007628</td>\n",
       "      <td>0.002887</td>\n",
       "      <td>-0.006168</td>\n",
       "      <td>-0.003192</td>\n",
       "      <td>-0.000593</td>\n",
       "      <td>-0.004535</td>\n",
       "      <td>1.000000</td>\n",
       "      <td>-0.003089</td>\n",
       "    </tr>\n",
       "    <tr>\n",
       "      <th>res1_yes</th>\n",
       "      <td>0.000793</td>\n",
       "      <td>0.093512</td>\n",
       "      <td>0.067876</td>\n",
       "      <td>-0.089597</td>\n",
       "      <td>0.078900</td>\n",
       "      <td>0.043701</td>\n",
       "      <td>0.029017</td>\n",
       "      <td>0.066733</td>\n",
       "      <td>-0.003089</td>\n",
       "      <td>1.000000</td>\n",
       "    </tr>\n",
       "  </tbody>\n",
       "</table>\n",
       "</div>"
      ],
      "text/plain": [
       "             bizflag   numords   dollars      last  sincepurch  version1  \\\n",
       "bizflag     1.000000  0.000197  0.002038 -0.000390   -0.005220 -0.006011   \n",
       "numords     0.000197  1.000000  0.585654 -0.130356    0.001763  0.005728   \n",
       "dollars     0.002038  0.585654  1.000000 -0.074659    0.000815  0.002217   \n",
       "last       -0.000390 -0.130356 -0.074659  1.000000   -0.001169  0.002018   \n",
       "sincepurch -0.005220  0.001763  0.000815 -0.001169    1.000000  0.524144   \n",
       "version1   -0.006011  0.005728  0.002217  0.002018    0.524144  1.000000   \n",
       "owntaxprod  0.004565  0.119726  0.074988 -0.019854   -0.001149 -0.084814   \n",
       "upgraded   -0.003080 -0.002755 -0.001420 -0.000192    0.511277 -0.267716   \n",
       "training   -0.003159 -0.006790 -0.007628  0.002887   -0.006168 -0.003192   \n",
       "res1_yes    0.000793  0.093512  0.067876 -0.089597    0.078900  0.043701   \n",
       "\n",
       "            owntaxprod  upgraded  training  res1_yes  \n",
       "bizflag       0.004565 -0.003080 -0.003159  0.000793  \n",
       "numords       0.119726 -0.002755 -0.006790  0.093512  \n",
       "dollars       0.074988 -0.001420 -0.007628  0.067876  \n",
       "last         -0.019854 -0.000192  0.002887 -0.089597  \n",
       "sincepurch   -0.001149  0.511277 -0.006168  0.078900  \n",
       "version1     -0.084814 -0.267716 -0.003192  0.043701  \n",
       "owntaxprod    1.000000  0.087418 -0.000593  0.029017  \n",
       "upgraded      0.087418  1.000000 -0.004535  0.066733  \n",
       "training     -0.000593 -0.004535  1.000000 -0.003089  \n",
       "res1_yes      0.029017  0.066733 -0.003089  1.000000  "
      ]
     },
     "execution_count": 7,
     "metadata": {},
     "output_type": "execute_result"
    }
   ],
   "source": [
    "# Checking correlations\n",
    "intuit75k.corr()"
   ]
  },
  {
   "cell_type": "code",
   "execution_count": 8,
   "metadata": {},
   "outputs": [
    {
     "data": {
      "image/png": "[encoded data removed]",
      "text/plain": [
       "<Figure size 432x288 with 1 Axes>"
      ]
     },
     "metadata": {
      "needs_background": "light"
     },
     "output_type": "display_data"
    }
   ],
   "source": [
    "# proportion of people who responded positively across every zip code bin\n",
    "fig = rsm.prop_plot(intuit75k, \"zip_bins\", \"res1\", \"Yes\")"
   ]
  },
  {
   "cell_type": "code",
   "execution_count": 9,
   "metadata": {},
   "outputs": [],
   "source": [
    "intuit75k['responsive_bin'] = np.where(intuit75k['zip_bins'] == 1, 'Res_ZIP_bin', 'NRes_ZIP_bin')"
   ]
  },
  {
   "cell_type": "code",
   "execution_count": 10,
   "metadata": {},
   "outputs": [
    {
     "data": {
      "image/png": "[encoded data removed]",
      "text/plain": [
       "<Figure size 432x288 with 1 Axes>"
      ]
     },
     "metadata": {
      "needs_background": "light"
     },
     "output_type": "display_data"
    }
   ],
   "source": [
    "# proportion of people who responded positively across every sex\n",
    "fig = rsm.prop_plot(intuit75k, \"sex\", \"res1\", \"Yes\")"
   ]
  },
  {
   "cell_type": "code",
   "execution_count": 11,
   "metadata": {},
   "outputs": [
    {
     "data": {
      "image/png": "[encoded data removed]",
      "text/plain": [
       "<Figure size 432x288 with 1 Axes>"
      ]
     },
     "metadata": {
      "needs_background": "light"
     },
     "output_type": "display_data"
    }
   ],
   "source": [
    "# proportion of people who responded positively across bizflag\n",
    "fig = rsm.prop_plot(intuit75k, \"bizflag\", \"res1\", \"Yes\")"
   ]
  },
  {
   "cell_type": "code",
   "execution_count": 12,
   "metadata": {},
   "outputs": [
    {
     "data": {
      "image/png": "[encoded data removed]",
      "text/plain": [
       "<Figure size 432x288 with 1 Axes>"
      ]
     },
     "metadata": {
      "needs_background": "light"
     },
     "output_type": "display_data"
    }
   ],
   "source": [
    "# proportion of people who responded positively across version1\n",
    "fig = rsm.prop_plot(intuit75k, \"version1\", \"res1\", \"Yes\")"
   ]
  },
  {
   "cell_type": "code",
   "execution_count": 13,
   "metadata": {},
   "outputs": [
    {
     "data": {
      "image/png": "[encoded data removed]",
      "text/plain": [
       "<Figure size 432x288 with 1 Axes>"
      ]
     },
     "metadata": {
      "needs_background": "light"
     },
     "output_type": "display_data"
    }
   ],
   "source": [
    "# proportion of people who responded positively across owntaxprod\n",
    "fig = rsm.prop_plot(intuit75k, \"owntaxprod\", \"res1\", \"Yes\")"
   ]
  },
  {
   "cell_type": "code",
   "execution_count": 14,
   "metadata": {},
   "outputs": [
    {
     "data": {
      "image/png": "[encoded data removed]",
      "text/plain": [
       "<Figure size 432x288 with 1 Axes>"
      ]
     },
     "metadata": {
      "needs_background": "light"
     },
     "output_type": "display_data"
    }
   ],
   "source": [
    "# proportion of people who responded positively across upgraded\n",
    "fig = rsm.prop_plot(intuit75k, \"last\", \"res1\", \"Yes\")"
   ]
  },
  {
   "cell_type": "code",
   "execution_count": 15,
   "metadata": {},
   "outputs": [
    {
     "data": {
      "image/png": "[encoded data removed]",
      "text/plain": [
       "<Figure size 432x288 with 1 Axes>"
      ]
     },
     "metadata": {
      "needs_background": "light"
     },
     "output_type": "display_data"
    }
   ],
   "source": [
    "fig = rsm.prop_plot(intuit75k, \"numords\", \"res1\", \"Yes\")"
   ]
  },
  {
   "cell_type": "code",
   "execution_count": 16,
   "metadata": {},
   "outputs": [
    {
     "data": {
      "image/png": "[encoded data removed]",
      "text/plain": [
       "<Figure size 432x288 with 1 Axes>"
      ]
     },
     "metadata": {
      "needs_background": "light"
     },
     "output_type": "display_data"
    }
   ],
   "source": [
    "fig = rsm.prop_plot(intuit75k, \"dollars\", \"res1\", \"Yes\")"
   ]
  },
  {
   "cell_type": "code",
   "execution_count": 17,
   "metadata": {},
   "outputs": [],
   "source": [
    "def make_version_status(x, y):\n",
    "    if x == 1 and y == 0:\n",
    "        return \"BoughtV1_CurrentV1\"\n",
    "    if x == 0 and y == 1:\n",
    "        return \"BoughtV1_CurrentV2\"\n",
    "    if x == 0 and y == 0:\n",
    "        return \"BoughtV2_CurrentV2\"\n",
    "\n",
    "\n",
    "intuit75k[\"version_status\"] = intuit75k[[\"version1\", \"upgraded\"]].apply(\n",
    "    lambda x: make_version_status(*x), axis=1\n",
    ")"
   ]
  },
  {
   "cell_type": "code",
   "execution_count": 18,
   "metadata": {},
   "outputs": [
    {
     "data": {
      "image/png": "[encoded data removed]",
      "text/plain": [
       "<Figure size 432x288 with 1 Axes>"
      ]
     },
     "metadata": {
      "needs_background": "light"
     },
     "output_type": "display_data"
    }
   ],
   "source": [
    "fig = rsm.prop_plot(intuit75k, \"version_status\", \"res1\", \"Yes\")"
   ]
  },
  {
   "cell_type": "code",
   "execution_count": 19,
   "metadata": {},
   "outputs": [],
   "source": [
    "intuit75k = intuit75k.assign(rec_iq=rsm.xtile(intuit75k[\"last\"], 5))\n",
    "intuit75k = intuit75k.assign(freq_iq=rsm.xtile(intuit75k[\"numords\"], 5, rev=True))\n",
    "intuit75k = intuit75k.assign(mon_iq=rsm.xtile(intuit75k[\"dollars\"], 5, True))\n",
    "intuit75k = intuit75k.assign(\n",
    "    rfm_iq=intuit75k[\"rec_iq\"].astype(str)\n",
    "    + intuit75k[\"freq_iq\"].astype(str)\n",
    "    + intuit75k[\"mon_iq\"].astype(str)\n",
    ")"
   ]
  },
  {
   "cell_type": "code",
   "execution_count": 20,
   "metadata": {},
   "outputs": [],
   "source": [
    "#RFM Sequential Bins\n",
    "intuit75k = intuit75k.assign(freq_sq=intuit75k.groupby(\"rec_iq\")[\"numords\"].transform(rsm.xtile, 5, rev=True))\n",
    "intuit75k = intuit75k.assign(mon_sq=intuit75k.groupby([\"rec_iq\", \"freq_sq\"])[\"dollars\"].transform(rsm.xtile, 5, rev=True))\n",
    "intuit75k = intuit75k.assign(\n",
    "    rfm_sq=intuit75k[\"rec_iq\"].astype(str)\n",
    "    + intuit75k[\"freq_sq\"].astype(str)\n",
    "    + intuit75k[\"mon_sq\"].astype(str)\n",
    ")"
   ]
  },
  {
   "cell_type": "code",
   "execution_count": null,
   "metadata": {},
   "outputs": [],
   "source": []
  },
  {
   "cell_type": "markdown",
   "metadata": {},
   "source": [
    "<br>\n",
    "<br>\n",
    "<br>"
   ]
  },
  {
   "cell_type": "code",
   "execution_count": 21,
   "metadata": {},
   "outputs": [
    {
     "data": {
      "text/html": [
       "<div>\n",
       "<style scoped>\n",
       "    .dataframe tbody tr th:only-of-type {\n",
       "        vertical-align: middle;\n",
       "    }\n",
       "\n",
       "    .dataframe tbody tr th {\n",
       "        vertical-align: top;\n",
       "    }\n",
       "\n",
       "    .dataframe thead th {\n",
       "        text-align: right;\n",
       "    }\n",
       "</style>\n",
       "<table border=\"1\" class=\"dataframe\">\n",
       "  <thead>\n",
       "    <tr style=\"text-align: right;\">\n",
       "      <th></th>\n",
       "      <th>id</th>\n",
       "      <th>zip</th>\n",
       "      <th>zip_bins</th>\n",
       "      <th>sex</th>\n",
       "      <th>bizflag</th>\n",
       "      <th>numords</th>\n",
       "      <th>dollars</th>\n",
       "      <th>last</th>\n",
       "      <th>sincepurch</th>\n",
       "      <th>version1</th>\n",
       "      <th>owntaxprod</th>\n",
       "      <th>upgraded</th>\n",
       "      <th>res1</th>\n",
       "      <th>training</th>\n",
       "      <th>res1_yes</th>\n",
       "      <th>responsive_bin</th>\n",
       "      <th>version_status</th>\n",
       "      <th>rec_iq</th>\n",
       "      <th>freq_iq</th>\n",
       "      <th>mon_iq</th>\n",
       "      <th>rfm_iq</th>\n",
       "      <th>freq_sq</th>\n",
       "      <th>mon_sq</th>\n",
       "      <th>rfm_sq</th>\n",
       "    </tr>\n",
       "  </thead>\n",
       "  <tbody>\n",
       "    <tr>\n",
       "      <th>0</th>\n",
       "      <td>1</td>\n",
       "      <td>94553</td>\n",
       "      <td>18</td>\n",
       "      <td>Male</td>\n",
       "      <td>0</td>\n",
       "      <td>2</td>\n",
       "      <td>109.5</td>\n",
       "      <td>5</td>\n",
       "      <td>12</td>\n",
       "      <td>0</td>\n",
       "      <td>0</td>\n",
       "      <td>0</td>\n",
       "      <td>No</td>\n",
       "      <td>1</td>\n",
       "      <td>0</td>\n",
       "      <td>NRes_ZIP_bin</td>\n",
       "      <td>BoughtV2_CurrentV2</td>\n",
       "      <td>1</td>\n",
       "      <td>3</td>\n",
       "      <td>2</td>\n",
       "      <td>132</td>\n",
       "      <td>4</td>\n",
       "      <td>2</td>\n",
       "      <td>142</td>\n",
       "    </tr>\n",
       "    <tr>\n",
       "      <th>1</th>\n",
       "      <td>2</td>\n",
       "      <td>53190</td>\n",
       "      <td>10</td>\n",
       "      <td>Unknown</td>\n",
       "      <td>0</td>\n",
       "      <td>1</td>\n",
       "      <td>69.5</td>\n",
       "      <td>4</td>\n",
       "      <td>3</td>\n",
       "      <td>0</td>\n",
       "      <td>0</td>\n",
       "      <td>0</td>\n",
       "      <td>No</td>\n",
       "      <td>0</td>\n",
       "      <td>0</td>\n",
       "      <td>NRes_ZIP_bin</td>\n",
       "      <td>BoughtV2_CurrentV2</td>\n",
       "      <td>1</td>\n",
       "      <td>5</td>\n",
       "      <td>3</td>\n",
       "      <td>153</td>\n",
       "      <td>5</td>\n",
       "      <td>2</td>\n",
       "      <td>152</td>\n",
       "    </tr>\n",
       "    <tr>\n",
       "      <th>2</th>\n",
       "      <td>3</td>\n",
       "      <td>37091</td>\n",
       "      <td>8</td>\n",
       "      <td>Male</td>\n",
       "      <td>0</td>\n",
       "      <td>4</td>\n",
       "      <td>93.0</td>\n",
       "      <td>14</td>\n",
       "      <td>29</td>\n",
       "      <td>0</td>\n",
       "      <td>0</td>\n",
       "      <td>1</td>\n",
       "      <td>No</td>\n",
       "      <td>0</td>\n",
       "      <td>0</td>\n",
       "      <td>NRes_ZIP_bin</td>\n",
       "      <td>BoughtV1_CurrentV2</td>\n",
       "      <td>3</td>\n",
       "      <td>1</td>\n",
       "      <td>2</td>\n",
       "      <td>312</td>\n",
       "      <td>1</td>\n",
       "      <td>5</td>\n",
       "      <td>315</td>\n",
       "    </tr>\n",
       "    <tr>\n",
       "      <th>3</th>\n",
       "      <td>4</td>\n",
       "      <td>02125</td>\n",
       "      <td>1</td>\n",
       "      <td>Male</td>\n",
       "      <td>0</td>\n",
       "      <td>1</td>\n",
       "      <td>22.0</td>\n",
       "      <td>17</td>\n",
       "      <td>1</td>\n",
       "      <td>0</td>\n",
       "      <td>0</td>\n",
       "      <td>0</td>\n",
       "      <td>No</td>\n",
       "      <td>1</td>\n",
       "      <td>0</td>\n",
       "      <td>Res_ZIP_bin</td>\n",
       "      <td>BoughtV2_CurrentV2</td>\n",
       "      <td>3</td>\n",
       "      <td>5</td>\n",
       "      <td>5</td>\n",
       "      <td>355</td>\n",
       "      <td>5</td>\n",
       "      <td>4</td>\n",
       "      <td>354</td>\n",
       "    </tr>\n",
       "    <tr>\n",
       "      <th>4</th>\n",
       "      <td>5</td>\n",
       "      <td>60201</td>\n",
       "      <td>11</td>\n",
       "      <td>Male</td>\n",
       "      <td>0</td>\n",
       "      <td>1</td>\n",
       "      <td>24.5</td>\n",
       "      <td>2</td>\n",
       "      <td>3</td>\n",
       "      <td>0</td>\n",
       "      <td>0</td>\n",
       "      <td>0</td>\n",
       "      <td>No</td>\n",
       "      <td>0</td>\n",
       "      <td>0</td>\n",
       "      <td>NRes_ZIP_bin</td>\n",
       "      <td>BoughtV2_CurrentV2</td>\n",
       "      <td>1</td>\n",
       "      <td>5</td>\n",
       "      <td>5</td>\n",
       "      <td>155</td>\n",
       "      <td>5</td>\n",
       "      <td>4</td>\n",
       "      <td>154</td>\n",
       "    </tr>\n",
       "  </tbody>\n",
       "</table>\n",
       "</div>"
      ],
      "text/plain": [
       "  id    zip zip_bins      sex  bizflag  numords  dollars  last  sincepurch  \\\n",
       "0  1  94553       18     Male        0        2    109.5     5          12   \n",
       "1  2  53190       10  Unknown        0        1     69.5     4           3   \n",
       "2  3  37091        8     Male        0        4     93.0    14          29   \n",
       "3  4  02125        1     Male        0        1     22.0    17           1   \n",
       "4  5  60201       11     Male        0        1     24.5     2           3   \n",
       "\n",
       "   version1  owntaxprod  upgraded res1  training  res1_yes responsive_bin  \\\n",
       "0         0           0         0   No         1         0   NRes_ZIP_bin   \n",
       "1         0           0         0   No         0         0   NRes_ZIP_bin   \n",
       "2         0           0         1   No         0         0   NRes_ZIP_bin   \n",
       "3         0           0         0   No         1         0    Res_ZIP_bin   \n",
       "4         0           0         0   No         0         0   NRes_ZIP_bin   \n",
       "\n",
       "       version_status  rec_iq  freq_iq  mon_iq rfm_iq  freq_sq  mon_sq rfm_sq  \n",
       "0  BoughtV2_CurrentV2       1        3       2    132        4       2    142  \n",
       "1  BoughtV2_CurrentV2       1        5       3    153        5       2    152  \n",
       "2  BoughtV1_CurrentV2       3        1       2    312        1       5    315  \n",
       "3  BoughtV2_CurrentV2       3        5       5    355        5       4    354  \n",
       "4  BoughtV2_CurrentV2       1        5       5    155        5       4    154  "
      ]
     },
     "execution_count": 21,
     "metadata": {},
     "output_type": "execute_result"
    }
   ],
   "source": [
    "pd.set_option('display.max_columns', None)\n",
    "intuit75k.head()"
   ]
  },
  {
   "cell_type": "code",
   "execution_count": 22,
   "metadata": {},
   "outputs": [],
   "source": [
    "intuit75k_copy = intuit75k.copy(deep = True)"
   ]
  },
  {
   "cell_type": "code",
   "execution_count": 23,
   "metadata": {},
   "outputs": [],
   "source": [
    "from sklearn import preprocessing\n",
    "scaler = preprocessing.StandardScaler()\n",
    "sf = scaler.fit(intuit75k[['numords','dollars','last','sincepurch']])\n",
    "intuit75k_copy[['numords','dollars','last','sincepurch']] = sf.transform(intuit75k_copy[['numords','dollars','last','sincepurch']])"
   ]
  },
  {
   "cell_type": "code",
   "execution_count": 24,
   "metadata": {},
   "outputs": [
    {
     "data": {
      "text/html": [
       "<div>\n",
       "<style scoped>\n",
       "    .dataframe tbody tr th:only-of-type {\n",
       "        vertical-align: middle;\n",
       "    }\n",
       "\n",
       "    .dataframe tbody tr th {\n",
       "        vertical-align: top;\n",
       "    }\n",
       "\n",
       "    .dataframe thead th {\n",
       "        text-align: right;\n",
       "    }\n",
       "</style>\n",
       "<table border=\"1\" class=\"dataframe\">\n",
       "  <thead>\n",
       "    <tr style=\"text-align: right;\">\n",
       "      <th></th>\n",
       "      <th>id</th>\n",
       "      <th>zip</th>\n",
       "      <th>zip_bins</th>\n",
       "      <th>sex</th>\n",
       "      <th>bizflag</th>\n",
       "      <th>numords</th>\n",
       "      <th>dollars</th>\n",
       "      <th>last</th>\n",
       "      <th>sincepurch</th>\n",
       "      <th>version1</th>\n",
       "      <th>owntaxprod</th>\n",
       "      <th>upgraded</th>\n",
       "      <th>res1</th>\n",
       "      <th>training</th>\n",
       "      <th>res1_yes</th>\n",
       "      <th>responsive_bin</th>\n",
       "      <th>version_status</th>\n",
       "      <th>rec_iq</th>\n",
       "      <th>freq_iq</th>\n",
       "      <th>mon_iq</th>\n",
       "      <th>rfm_iq</th>\n",
       "      <th>freq_sq</th>\n",
       "      <th>mon_sq</th>\n",
       "      <th>rfm_sq</th>\n",
       "    </tr>\n",
       "  </thead>\n",
       "  <tbody>\n",
       "    <tr>\n",
       "      <th>0</th>\n",
       "      <td>1</td>\n",
       "      <td>94553</td>\n",
       "      <td>18</td>\n",
       "      <td>Male</td>\n",
       "      <td>0</td>\n",
       "      <td>-0.061449</td>\n",
       "      <td>0.202116</td>\n",
       "      <td>-1.136223</td>\n",
       "      <td>-0.364760</td>\n",
       "      <td>0</td>\n",
       "      <td>0</td>\n",
       "      <td>0</td>\n",
       "      <td>No</td>\n",
       "      <td>1</td>\n",
       "      <td>0</td>\n",
       "      <td>NRes_ZIP_bin</td>\n",
       "      <td>BoughtV2_CurrentV2</td>\n",
       "      <td>1</td>\n",
       "      <td>3</td>\n",
       "      <td>2</td>\n",
       "      <td>132</td>\n",
       "      <td>4</td>\n",
       "      <td>2</td>\n",
       "      <td>142</td>\n",
       "    </tr>\n",
       "    <tr>\n",
       "      <th>1</th>\n",
       "      <td>2</td>\n",
       "      <td>53190</td>\n",
       "      <td>10</td>\n",
       "      <td>Unknown</td>\n",
       "      <td>0</td>\n",
       "      <td>-0.867026</td>\n",
       "      <td>-0.290463</td>\n",
       "      <td>-1.241056</td>\n",
       "      <td>-1.262404</td>\n",
       "      <td>0</td>\n",
       "      <td>0</td>\n",
       "      <td>0</td>\n",
       "      <td>No</td>\n",
       "      <td>0</td>\n",
       "      <td>0</td>\n",
       "      <td>NRes_ZIP_bin</td>\n",
       "      <td>BoughtV2_CurrentV2</td>\n",
       "      <td>1</td>\n",
       "      <td>5</td>\n",
       "      <td>3</td>\n",
       "      <td>153</td>\n",
       "      <td>5</td>\n",
       "      <td>2</td>\n",
       "      <td>152</td>\n",
       "    </tr>\n",
       "    <tr>\n",
       "      <th>2</th>\n",
       "      <td>3</td>\n",
       "      <td>37091</td>\n",
       "      <td>8</td>\n",
       "      <td>Male</td>\n",
       "      <td>0</td>\n",
       "      <td>1.549704</td>\n",
       "      <td>-0.001073</td>\n",
       "      <td>-0.192728</td>\n",
       "      <td>1.330790</td>\n",
       "      <td>0</td>\n",
       "      <td>0</td>\n",
       "      <td>1</td>\n",
       "      <td>No</td>\n",
       "      <td>0</td>\n",
       "      <td>0</td>\n",
       "      <td>NRes_ZIP_bin</td>\n",
       "      <td>BoughtV1_CurrentV2</td>\n",
       "      <td>3</td>\n",
       "      <td>1</td>\n",
       "      <td>2</td>\n",
       "      <td>312</td>\n",
       "      <td>1</td>\n",
       "      <td>5</td>\n",
       "      <td>315</td>\n",
       "    </tr>\n",
       "    <tr>\n",
       "      <th>3</th>\n",
       "      <td>4</td>\n",
       "      <td>02125</td>\n",
       "      <td>1</td>\n",
       "      <td>Male</td>\n",
       "      <td>0</td>\n",
       "      <td>-0.867026</td>\n",
       "      <td>-0.875400</td>\n",
       "      <td>0.121771</td>\n",
       "      <td>-1.461881</td>\n",
       "      <td>0</td>\n",
       "      <td>0</td>\n",
       "      <td>0</td>\n",
       "      <td>No</td>\n",
       "      <td>1</td>\n",
       "      <td>0</td>\n",
       "      <td>Res_ZIP_bin</td>\n",
       "      <td>BoughtV2_CurrentV2</td>\n",
       "      <td>3</td>\n",
       "      <td>5</td>\n",
       "      <td>5</td>\n",
       "      <td>355</td>\n",
       "      <td>5</td>\n",
       "      <td>4</td>\n",
       "      <td>354</td>\n",
       "    </tr>\n",
       "    <tr>\n",
       "      <th>4</th>\n",
       "      <td>5</td>\n",
       "      <td>60201</td>\n",
       "      <td>11</td>\n",
       "      <td>Male</td>\n",
       "      <td>0</td>\n",
       "      <td>-0.867026</td>\n",
       "      <td>-0.844613</td>\n",
       "      <td>-1.450722</td>\n",
       "      <td>-1.262404</td>\n",
       "      <td>0</td>\n",
       "      <td>0</td>\n",
       "      <td>0</td>\n",
       "      <td>No</td>\n",
       "      <td>0</td>\n",
       "      <td>0</td>\n",
       "      <td>NRes_ZIP_bin</td>\n",
       "      <td>BoughtV2_CurrentV2</td>\n",
       "      <td>1</td>\n",
       "      <td>5</td>\n",
       "      <td>5</td>\n",
       "      <td>155</td>\n",
       "      <td>5</td>\n",
       "      <td>4</td>\n",
       "      <td>154</td>\n",
       "    </tr>\n",
       "  </tbody>\n",
       "</table>\n",
       "</div>"
      ],
      "text/plain": [
       "  id    zip zip_bins      sex  bizflag   numords   dollars      last  \\\n",
       "0  1  94553       18     Male        0 -0.061449  0.202116 -1.136223   \n",
       "1  2  53190       10  Unknown        0 -0.867026 -0.290463 -1.241056   \n",
       "2  3  37091        8     Male        0  1.549704 -0.001073 -0.192728   \n",
       "3  4  02125        1     Male        0 -0.867026 -0.875400  0.121771   \n",
       "4  5  60201       11     Male        0 -0.867026 -0.844613 -1.450722   \n",
       "\n",
       "   sincepurch  version1  owntaxprod  upgraded res1  training  res1_yes  \\\n",
       "0   -0.364760         0           0         0   No         1         0   \n",
       "1   -1.262404         0           0         0   No         0         0   \n",
       "2    1.330790         0           0         1   No         0         0   \n",
       "3   -1.461881         0           0         0   No         1         0   \n",
       "4   -1.262404         0           0         0   No         0         0   \n",
       "\n",
       "  responsive_bin      version_status  rec_iq  freq_iq  mon_iq rfm_iq  freq_sq  \\\n",
       "0   NRes_ZIP_bin  BoughtV2_CurrentV2       1        3       2    132        4   \n",
       "1   NRes_ZIP_bin  BoughtV2_CurrentV2       1        5       3    153        5   \n",
       "2   NRes_ZIP_bin  BoughtV1_CurrentV2       3        1       2    312        1   \n",
       "3    Res_ZIP_bin  BoughtV2_CurrentV2       3        5       5    355        5   \n",
       "4   NRes_ZIP_bin  BoughtV2_CurrentV2       1        5       5    155        5   \n",
       "\n",
       "   mon_sq rfm_sq  \n",
       "0       2    142  \n",
       "1       2    152  \n",
       "2       5    315  \n",
       "3       4    354  \n",
       "4       4    154  "
      ]
     },
     "execution_count": 24,
     "metadata": {},
     "output_type": "execute_result"
    }
   ],
   "source": [
    "intuit75k_copy.head()"
   ]
  },
  {
   "cell_type": "code",
   "execution_count": 25,
   "metadata": {},
   "outputs": [],
   "source": [
    "cost= 1.41\n",
    "margin= 60\n",
    "breakeven_rr= cost/margin"
   ]
  },
  {
   "cell_type": "code",
   "execution_count": 31,
   "metadata": {},
   "outputs": [],
   "source": [
    "# Logistic regression via statsmodel (using the formula API)\n",
    "lr_mod = smf.glm(\n",
    "    formula=\"res1_yes ~ responsive_bin*sincepurch + numords + dollars + last +  owntaxprod + version_status\",\n",
    "    family=Binomial(link=logit()),\n",
    "    data=intuit75k_copy[intuit75k_copy.training == 1]\n",
    ")\n",
    "lr = lr_mod.fit()\n",
    "\n",
    "########################################################################################\n",
    "lr_mod1 = smf.glm(\n",
    "    formula=\"res1_yes ~ responsive_bin + numords + dollars + last +  owntaxprod + upgraded*sincepurch\",\n",
    "    family=Binomial(link=logit()),\n",
    "    data=intuit75k_copy[intuit75k_copy.training == 1]\n",
    ")\n",
    "lr1 = lr_mod1.fit()\n",
    "\n",
    "#########################################################################################\n",
    "lr_mod2 = smf.glm(\n",
    "    formula=\"res1_yes ~ zip_bins +  numords + dollars + last +  owntaxprod + upgraded:sincepurch  + version_status\",\n",
    "    family=Binomial(link=logit()),\n",
    "    data=intuit75k_copy[intuit75k_copy.training == 1]\n",
    ")\n",
    "lr2 = lr_mod2.fit()\n",
    "\n",
    "###########################################################################################\n",
    "lr_mod3 = smf.glm(\n",
    "    formula=\"res1_yes ~ responsive_bin + rfm_iq +  owntaxprod + version_status\",\n",
    "    family=Binomial(link=logit()),\n",
    "    data=intuit75k_copy[intuit75k_copy.training == 1]\n",
    ")\n",
    "lr3 = lr_mod3.fit()\n"
   ]
  },
  {
   "cell_type": "code",
   "execution_count": 32,
   "metadata": {},
   "outputs": [],
   "source": [
    "# lr_mod = smf.glm(\n",
    "#     formula=\"res1_yes ~ dollars:sincepurch +  responsive_bin+ numords  + last +  owntaxprod + version_status\",\n",
    "#     family=Binomial(link=logit()),\n",
    "#     data=intuit75k_copy[intuit75k_copy.training == 1]\n",
    "# )\n",
    "# lr = lr_mod.fit()\n"
   ]
  },
  {
   "cell_type": "code",
   "execution_count": 33,
   "metadata": {},
   "outputs": [
    {
     "data": {
      "text/html": [
       "<div>\n",
       "<style scoped>\n",
       "    .dataframe tbody tr th:only-of-type {\n",
       "        vertical-align: middle;\n",
       "    }\n",
       "\n",
       "    .dataframe tbody tr th {\n",
       "        vertical-align: top;\n",
       "    }\n",
       "\n",
       "    .dataframe thead th {\n",
       "        text-align: right;\n",
       "    }\n",
       "</style>\n",
       "<table border=\"1\" class=\"dataframe\">\n",
       "  <thead>\n",
       "    <tr style=\"text-align: right;\">\n",
       "      <th></th>\n",
       "      <th>variable</th>\n",
       "      <th>vif</th>\n",
       "      <th>Rsq</th>\n",
       "    </tr>\n",
       "  </thead>\n",
       "  <tbody>\n",
       "    <tr>\n",
       "      <th>0</th>\n",
       "      <td>version_status[T.BoughtV2_CurrentV2]</td>\n",
       "      <td>4.318</td>\n",
       "      <td>0.768</td>\n",
       "    </tr>\n",
       "    <tr>\n",
       "      <th>1</th>\n",
       "      <td>sincepurch</td>\n",
       "      <td>3.786</td>\n",
       "      <td>0.736</td>\n",
       "    </tr>\n",
       "    <tr>\n",
       "      <th>2</th>\n",
       "      <td>version_status[T.BoughtV1_CurrentV2]</td>\n",
       "      <td>1.583</td>\n",
       "      <td>0.368</td>\n",
       "    </tr>\n",
       "    <tr>\n",
       "      <th>3</th>\n",
       "      <td>numords</td>\n",
       "      <td>1.558</td>\n",
       "      <td>0.358</td>\n",
       "    </tr>\n",
       "    <tr>\n",
       "      <th>4</th>\n",
       "      <td>dollars</td>\n",
       "      <td>1.527</td>\n",
       "      <td>0.345</td>\n",
       "    </tr>\n",
       "    <tr>\n",
       "      <th>5</th>\n",
       "      <td>responsive_bin[T.Res_ZIP_bin]:sincepurch</td>\n",
       "      <td>1.054</td>\n",
       "      <td>0.051</td>\n",
       "    </tr>\n",
       "    <tr>\n",
       "      <th>6</th>\n",
       "      <td>owntaxprod</td>\n",
       "      <td>1.027</td>\n",
       "      <td>0.026</td>\n",
       "    </tr>\n",
       "    <tr>\n",
       "      <th>7</th>\n",
       "      <td>last</td>\n",
       "      <td>1.017</td>\n",
       "      <td>0.017</td>\n",
       "    </tr>\n",
       "    <tr>\n",
       "      <th>8</th>\n",
       "      <td>responsive_bin[T.Res_ZIP_bin]</td>\n",
       "      <td>1.001</td>\n",
       "      <td>0.001</td>\n",
       "    </tr>\n",
       "  </tbody>\n",
       "</table>\n",
       "</div>"
      ],
      "text/plain": [
       "                                   variable    vif    Rsq\n",
       "0      version_status[T.BoughtV2_CurrentV2]  4.318  0.768\n",
       "1                                sincepurch  3.786  0.736\n",
       "2      version_status[T.BoughtV1_CurrentV2]  1.583  0.368\n",
       "3                                   numords  1.558  0.358\n",
       "4                                   dollars  1.527  0.345\n",
       "5  responsive_bin[T.Res_ZIP_bin]:sincepurch  1.054  0.051\n",
       "6                                owntaxprod  1.027  0.026\n",
       "7                                      last  1.017  0.017\n",
       "8             responsive_bin[T.Res_ZIP_bin]  1.001  0.001"
      ]
     },
     "execution_count": 33,
     "metadata": {},
     "output_type": "execute_result"
    }
   ],
   "source": [
    "rsm.vif(lr_mod)"
   ]
  },
  {
   "cell_type": "code",
   "execution_count": 34,
   "metadata": {},
   "outputs": [
    {
     "data": {
      "text/html": [
       "<div>\n",
       "<style scoped>\n",
       "    .dataframe tbody tr th:only-of-type {\n",
       "        vertical-align: middle;\n",
       "    }\n",
       "\n",
       "    .dataframe tbody tr th {\n",
       "        vertical-align: top;\n",
       "    }\n",
       "\n",
       "    .dataframe thead th {\n",
       "        text-align: right;\n",
       "    }\n",
       "</style>\n",
       "<table border=\"1\" class=\"dataframe\">\n",
       "  <thead>\n",
       "    <tr style=\"text-align: right;\">\n",
       "      <th></th>\n",
       "      <th>statistic</th>\n",
       "      <th>pvalue</th>\n",
       "      <th>df_constraint</th>\n",
       "    </tr>\n",
       "  </thead>\n",
       "  <tbody>\n",
       "    <tr>\n",
       "      <th>Intercept</th>\n",
       "      <td>2777.636</td>\n",
       "      <td>0.000</td>\n",
       "      <td>1</td>\n",
       "    </tr>\n",
       "    <tr>\n",
       "      <th>responsive_bin</th>\n",
       "      <td>1389.614</td>\n",
       "      <td>0.000</td>\n",
       "      <td>1</td>\n",
       "    </tr>\n",
       "    <tr>\n",
       "      <th>version_status</th>\n",
       "      <td>127.030</td>\n",
       "      <td>0.000</td>\n",
       "      <td>2</td>\n",
       "    </tr>\n",
       "    <tr>\n",
       "      <th>sincepurch</th>\n",
       "      <td>2.121</td>\n",
       "      <td>0.145</td>\n",
       "      <td>1</td>\n",
       "    </tr>\n",
       "    <tr>\n",
       "      <th>responsive_bin:sincepurch</th>\n",
       "      <td>17.879</td>\n",
       "      <td>0.000</td>\n",
       "      <td>1</td>\n",
       "    </tr>\n",
       "    <tr>\n",
       "      <th>numords</th>\n",
       "      <td>145.839</td>\n",
       "      <td>0.000</td>\n",
       "      <td>1</td>\n",
       "    </tr>\n",
       "    <tr>\n",
       "      <th>dollars</th>\n",
       "      <td>15.786</td>\n",
       "      <td>0.000</td>\n",
       "      <td>1</td>\n",
       "    </tr>\n",
       "    <tr>\n",
       "      <th>last</th>\n",
       "      <td>326.112</td>\n",
       "      <td>0.000</td>\n",
       "      <td>1</td>\n",
       "    </tr>\n",
       "    <tr>\n",
       "      <th>owntaxprod</th>\n",
       "      <td>8.609</td>\n",
       "      <td>0.003</td>\n",
       "      <td>1</td>\n",
       "    </tr>\n",
       "  </tbody>\n",
       "</table>\n",
       "</div>"
      ],
      "text/plain": [
       "                           statistic  pvalue  df_constraint\n",
       "Intercept                   2777.636   0.000              1\n",
       "responsive_bin              1389.614   0.000              1\n",
       "version_status               127.030   0.000              2\n",
       "sincepurch                     2.121   0.145              1\n",
       "responsive_bin:sincepurch     17.879   0.000              1\n",
       "numords                      145.839   0.000              1\n",
       "dollars                       15.786   0.000              1\n",
       "last                         326.112   0.000              1\n",
       "owntaxprod                     8.609   0.003              1"
      ]
     },
     "execution_count": 34,
     "metadata": {},
     "output_type": "execute_result"
    }
   ],
   "source": [
    "lr.wald_test_terms().table.round(3)"
   ]
  },
  {
   "cell_type": "code",
   "execution_count": 35,
   "metadata": {},
   "outputs": [
    {
     "data": {
      "text/html": [
       "<table class=\"simpletable\">\n",
       "<caption>Generalized Linear Model Regression Results</caption>\n",
       "<tr>\n",
       "  <th>Dep. Variable:</th>       <td>res1_yes</td>     <th>  No. Observations:  </th>  <td> 52500</td> \n",
       "</tr>\n",
       "<tr>\n",
       "  <th>Model:</th>                  <td>GLM</td>       <th>  Df Residuals:      </th>  <td> 52490</td> \n",
       "</tr>\n",
       "<tr>\n",
       "  <th>Model Family:</th>        <td>Binomial</td>     <th>  Df Model:          </th>  <td>     9</td> \n",
       "</tr>\n",
       "<tr>\n",
       "  <th>Link Function:</th>         <td>logit</td>      <th>  Scale:             </th> <td>  1.0000</td>\n",
       "</tr>\n",
       "<tr>\n",
       "  <th>Method:</th>                <td>IRLS</td>       <th>  Log-Likelihood:    </th> <td> -8906.4</td>\n",
       "</tr>\n",
       "<tr>\n",
       "  <th>Date:</th>            <td>Thu, 11 Feb 2021</td> <th>  Deviance:          </th> <td>  17813.</td>\n",
       "</tr>\n",
       "<tr>\n",
       "  <th>Time:</th>                <td>05:50:19</td>     <th>  Pearson chi2:      </th> <td>5.20e+04</td>\n",
       "</tr>\n",
       "<tr>\n",
       "  <th>No. Iterations:</th>          <td>7</td>        <th>                     </th>     <td> </td>   \n",
       "</tr>\n",
       "<tr>\n",
       "  <th>Covariance Type:</th>     <td>nonrobust</td>    <th>                     </th>     <td> </td>   \n",
       "</tr>\n",
       "</table>\n",
       "<table class=\"simpletable\">\n",
       "<tr>\n",
       "                      <td></td>                        <th>coef</th>     <th>std err</th>      <th>z</th>      <th>P>|z|</th>  <th>[0.025</th>    <th>0.975]</th>  \n",
       "</tr>\n",
       "<tr>\n",
       "  <th>Intercept</th>                                <td>   -3.0938</td> <td>    0.059</td> <td>  -52.703</td> <td> 0.000</td> <td>   -3.209</td> <td>   -2.979</td>\n",
       "</tr>\n",
       "<tr>\n",
       "  <th>responsive_bin[T.Res_ZIP_bin]</th>            <td>    2.0705</td> <td>    0.056</td> <td>   37.278</td> <td> 0.000</td> <td>    1.962</td> <td>    2.179</td>\n",
       "</tr>\n",
       "<tr>\n",
       "  <th>version_status[T.BoughtV1_CurrentV2]</th>     <td>    0.2127</td> <td>    0.055</td> <td>    3.846</td> <td> 0.000</td> <td>    0.104</td> <td>    0.321</td>\n",
       "</tr>\n",
       "<tr>\n",
       "  <th>version_status[T.BoughtV2_CurrentV2]</th>     <td>   -0.7539</td> <td>    0.087</td> <td>   -8.658</td> <td> 0.000</td> <td>   -0.925</td> <td>   -0.583</td>\n",
       "</tr>\n",
       "<tr>\n",
       "  <th>sincepurch</th>                               <td>    0.0597</td> <td>    0.041</td> <td>    1.457</td> <td> 0.145</td> <td>   -0.021</td> <td>    0.140</td>\n",
       "</tr>\n",
       "<tr>\n",
       "  <th>responsive_bin[T.Res_ZIP_bin]:sincepurch</th> <td>   -0.2302</td> <td>    0.054</td> <td>   -4.228</td> <td> 0.000</td> <td>   -0.337</td> <td>   -0.124</td>\n",
       "</tr>\n",
       "<tr>\n",
       "  <th>numords</th>                                  <td>    0.2858</td> <td>    0.024</td> <td>   12.076</td> <td> 0.000</td> <td>    0.239</td> <td>    0.332</td>\n",
       "</tr>\n",
       "<tr>\n",
       "  <th>dollars</th>                                  <td>    0.0880</td> <td>    0.022</td> <td>    3.973</td> <td> 0.000</td> <td>    0.045</td> <td>    0.131</td>\n",
       "</tr>\n",
       "<tr>\n",
       "  <th>last</th>                                     <td>   -0.4162</td> <td>    0.023</td> <td>  -18.059</td> <td> 0.000</td> <td>   -0.461</td> <td>   -0.371</td>\n",
       "</tr>\n",
       "<tr>\n",
       "  <th>owntaxprod</th>                               <td>    0.3014</td> <td>    0.103</td> <td>    2.934</td> <td> 0.003</td> <td>    0.100</td> <td>    0.503</td>\n",
       "</tr>\n",
       "</table>"
      ],
      "text/plain": [
       "<class 'statsmodels.iolib.summary.Summary'>\n",
       "\"\"\"\n",
       "                 Generalized Linear Model Regression Results                  \n",
       "==============================================================================\n",
       "Dep. Variable:               res1_yes   No. Observations:                52500\n",
       "Model:                            GLM   Df Residuals:                    52490\n",
       "Model Family:                Binomial   Df Model:                            9\n",
       "Link Function:                  logit   Scale:                          1.0000\n",
       "Method:                          IRLS   Log-Likelihood:                -8906.4\n",
       "Date:                Thu, 11 Feb 2021   Deviance:                       17813.\n",
       "Time:                        05:50:19   Pearson chi2:                 5.20e+04\n",
       "No. Iterations:                     7                                         \n",
       "Covariance Type:            nonrobust                                         \n",
       "============================================================================================================\n",
       "                                               coef    std err          z      P>|z|      [0.025      0.975]\n",
       "------------------------------------------------------------------------------------------------------------\n",
       "Intercept                                   -3.0938      0.059    -52.703      0.000      -3.209      -2.979\n",
       "responsive_bin[T.Res_ZIP_bin]                2.0705      0.056     37.278      0.000       1.962       2.179\n",
       "version_status[T.BoughtV1_CurrentV2]         0.2127      0.055      3.846      0.000       0.104       0.321\n",
       "version_status[T.BoughtV2_CurrentV2]        -0.7539      0.087     -8.658      0.000      -0.925      -0.583\n",
       "sincepurch                                   0.0597      0.041      1.457      0.145      -0.021       0.140\n",
       "responsive_bin[T.Res_ZIP_bin]:sincepurch    -0.2302      0.054     -4.228      0.000      -0.337      -0.124\n",
       "numords                                      0.2858      0.024     12.076      0.000       0.239       0.332\n",
       "dollars                                      0.0880      0.022      3.973      0.000       0.045       0.131\n",
       "last                                        -0.4162      0.023    -18.059      0.000      -0.461      -0.371\n",
       "owntaxprod                                   0.3014      0.103      2.934      0.003       0.100       0.503\n",
       "============================================================================================================\n",
       "\"\"\""
      ]
     },
     "execution_count": 35,
     "metadata": {},
     "output_type": "execute_result"
    }
   ],
   "source": [
    "# making chnages to push\n",
    "lr.summary()"
   ]
  },
  {
   "cell_type": "code",
   "execution_count": 36,
   "metadata": {},
   "outputs": [
    {
     "data": {
      "text/html": [
       "<div>\n",
       "<style scoped>\n",
       "    .dataframe tbody tr th:only-of-type {\n",
       "        vertical-align: middle;\n",
       "    }\n",
       "\n",
       "    .dataframe tbody tr th {\n",
       "        vertical-align: top;\n",
       "    }\n",
       "\n",
       "    .dataframe thead th {\n",
       "        text-align: right;\n",
       "    }\n",
       "</style>\n",
       "<table border=\"1\" class=\"dataframe\">\n",
       "  <thead>\n",
       "    <tr style=\"text-align: right;\">\n",
       "      <th></th>\n",
       "      <th>index</th>\n",
       "      <th>OR</th>\n",
       "      <th>OR%</th>\n",
       "      <th>2.5%</th>\n",
       "      <th>97.5%</th>\n",
       "    </tr>\n",
       "  </thead>\n",
       "  <tbody>\n",
       "    <tr>\n",
       "      <th>1</th>\n",
       "      <td>responsive_bin[T.Res_ZIP_bin]</td>\n",
       "      <td>7.929</td>\n",
       "      <td>692.909%</td>\n",
       "      <td>7.111</td>\n",
       "      <td>8.841</td>\n",
       "    </tr>\n",
       "    <tr>\n",
       "      <th>2</th>\n",
       "      <td>version_status[T.BoughtV1_CurrentV2]</td>\n",
       "      <td>1.237</td>\n",
       "      <td>23.699%</td>\n",
       "      <td>1.110</td>\n",
       "      <td>1.379</td>\n",
       "    </tr>\n",
       "    <tr>\n",
       "      <th>3</th>\n",
       "      <td>version_status[T.BoughtV2_CurrentV2]</td>\n",
       "      <td>0.471</td>\n",
       "      <td>-52.947%</td>\n",
       "      <td>0.397</td>\n",
       "      <td>0.558</td>\n",
       "    </tr>\n",
       "    <tr>\n",
       "      <th>4</th>\n",
       "      <td>sincepurch</td>\n",
       "      <td>1.061</td>\n",
       "      <td>6.149%</td>\n",
       "      <td>0.980</td>\n",
       "      <td>1.150</td>\n",
       "    </tr>\n",
       "    <tr>\n",
       "      <th>5</th>\n",
       "      <td>responsive_bin[T.Res_ZIP_bin]:sincepurch</td>\n",
       "      <td>0.794</td>\n",
       "      <td>-20.566%</td>\n",
       "      <td>0.714</td>\n",
       "      <td>0.884</td>\n",
       "    </tr>\n",
       "    <tr>\n",
       "      <th>6</th>\n",
       "      <td>numords</td>\n",
       "      <td>1.331</td>\n",
       "      <td>33.077%</td>\n",
       "      <td>1.270</td>\n",
       "      <td>1.394</td>\n",
       "    </tr>\n",
       "    <tr>\n",
       "      <th>7</th>\n",
       "      <td>dollars</td>\n",
       "      <td>1.092</td>\n",
       "      <td>9.197%</td>\n",
       "      <td>1.046</td>\n",
       "      <td>1.140</td>\n",
       "    </tr>\n",
       "    <tr>\n",
       "      <th>8</th>\n",
       "      <td>last</td>\n",
       "      <td>0.660</td>\n",
       "      <td>-34.047%</td>\n",
       "      <td>0.630</td>\n",
       "      <td>0.690</td>\n",
       "    </tr>\n",
       "    <tr>\n",
       "      <th>9</th>\n",
       "      <td>owntaxprod</td>\n",
       "      <td>1.352</td>\n",
       "      <td>35.175%</td>\n",
       "      <td>1.105</td>\n",
       "      <td>1.653</td>\n",
       "    </tr>\n",
       "  </tbody>\n",
       "</table>\n",
       "</div>"
      ],
      "text/plain": [
       "                                      index     OR       OR%   2.5%  97.5%\n",
       "1             responsive_bin[T.Res_ZIP_bin]  7.929  692.909%  7.111  8.841\n",
       "2      version_status[T.BoughtV1_CurrentV2]  1.237   23.699%  1.110  1.379\n",
       "3      version_status[T.BoughtV2_CurrentV2]  0.471  -52.947%  0.397  0.558\n",
       "4                                sincepurch  1.061    6.149%  0.980  1.150\n",
       "5  responsive_bin[T.Res_ZIP_bin]:sincepurch  0.794  -20.566%  0.714  0.884\n",
       "6                                   numords  1.331   33.077%  1.270  1.394\n",
       "7                                   dollars  1.092    9.197%  1.046  1.140\n",
       "8                                      last  0.660  -34.047%  0.630  0.690\n",
       "9                                owntaxprod  1.352   35.175%  1.105  1.653"
      ]
     },
     "execution_count": 36,
     "metadata": {},
     "output_type": "execute_result"
    }
   ],
   "source": [
    "rsm.or_ci(lr)"
   ]
  },
  {
   "cell_type": "code",
   "execution_count": 37,
   "metadata": {},
   "outputs": [
    {
     "name": "stdout",
     "output_type": "stream",
     "text": [
      "\n",
      "Pseudo R-squared (LR): 0.113\n",
      "Pseudo R-squared (McFadden): 0.113\n",
      "Log-likelihood: -8906.365, AIC: 17832.73, BIC: 17921.415\n",
      "Chi-squared: 52020.972 df(9), p.value < 0.001 \n",
      "Nr obs: 52,500\n",
      "\n"
     ]
    }
   ],
   "source": [
    "rsm.model_fit(lr)"
   ]
  },
  {
   "cell_type": "code",
   "execution_count": 38,
   "metadata": {},
   "outputs": [
    {
     "data": {
      "text/plain": [
       "<AxesSubplot:xlabel='Odds-ratio'>"
      ]
     },
     "execution_count": 38,
     "metadata": {},
     "output_type": "execute_result"
    },
    {
     "data": {
      "image/png": "[encoded data removed]",
      "text/plain": [
       "<Figure size 432x288 with 1 Axes>"
      ]
     },
     "metadata": {
      "needs_background": "light"
     },
     "output_type": "display_data"
    }
   ],
   "source": [
    "rsm.or_plot(lr)"
   ]
  },
  {
   "cell_type": "code",
   "execution_count": 39,
   "metadata": {},
   "outputs": [],
   "source": [
    "def add_predict_col(df_pred,df2_concat, lr, colsuffix, breakeven):\n",
    "    predicted = lr.predict(df_pred)/2\n",
    "    df2_concat['predicted_'+colsuffix] = predicted\n",
    "    df2_concat['predicted_yes_'+colsuffix] = np.where(df2_concat['predicted_'+colsuffix] > breakeven, 1, 0)\n",
    "    return df2_concat"
   ]
  },
  {
   "cell_type": "code",
   "execution_count": 40,
   "metadata": {},
   "outputs": [],
   "source": [
    "def create_cm_roc_profit(df, pred_col, pred_col_prob):\n",
    "    confusion_matrix = pd.crosstab(df[df.training == 0]['res1_yes'], df[df.training == 0][pred_col])\n",
    "    \n",
    "    accuracy = (confusion_matrix[1][1] + confusion_matrix[0][0])/confusion_matrix.values.sum()\n",
    "    f1 = 2*confusion_matrix[1][1]/(2*confusion_matrix[1][1] + confusion_matrix[1][0] + confusion_matrix[0][1])\n",
    "    roc_score = roc_auc_score(df[df.training == 0]['res1_yes'], df[df.training == 0][pred_col])\n",
    "    \n",
    "    profit = rsm.profit_max(df[df.training == 0], 'res1_yes',1 ,pred_col_prob,1.41,60)\n",
    "    \n",
    "    print(\"Accuracy is {}\".format(accuracy))\n",
    "    print(\"F1 Score is {}\".format(f1))\n",
    "    print(\"ROC AUC is {}\".format(roc_score))\n",
    "    print(\"Profit is {}\".format(profit))\n",
    "    return roc_score,profit,confusion_matrix\n",
    "    "
   ]
  },
  {
   "cell_type": "code",
   "execution_count": 41,
   "metadata": {},
   "outputs": [],
   "source": [
    "intuit75k = add_predict_col(intuit75k_copy, intuit75k, lr, 'lr', breakeven_rr)\n",
    "intuit75k = add_predict_col(intuit75k_copy, intuit75k, lr1, 'lr1', breakeven_rr)\n",
    "intuit75k = add_predict_col(intuit75k_copy, intuit75k, lr2, 'lr2', breakeven_rr)\n",
    "intuit75k = add_predict_col(intuit75k_copy, intuit75k, lr3, 'lr3', breakeven_rr)"
   ]
  },
  {
   "cell_type": "code",
   "execution_count": 42,
   "metadata": {},
   "outputs": [
    {
     "name": "stdout",
     "output_type": "stream",
     "text": [
      "Accuracy is 0.7052444444444445\n",
      "F1 Score is 0.1856581532416503\n",
      "ROC AUC is 0.6958353394369728\n",
      "Profit is 35432.19\n"
     ]
    },
    {
     "data": {
      "text/html": [
       "<div>\n",
       "<style scoped>\n",
       "    .dataframe tbody tr th:only-of-type {\n",
       "        vertical-align: middle;\n",
       "    }\n",
       "\n",
       "    .dataframe tbody tr th {\n",
       "        vertical-align: top;\n",
       "    }\n",
       "\n",
       "    .dataframe thead th {\n",
       "        text-align: right;\n",
       "    }\n",
       "</style>\n",
       "<table border=\"1\" class=\"dataframe\">\n",
       "  <thead>\n",
       "    <tr style=\"text-align: right;\">\n",
       "      <th>predicted_yes_lr</th>\n",
       "      <th>0</th>\n",
       "      <th>1</th>\n",
       "    </tr>\n",
       "    <tr>\n",
       "      <th>res1_yes</th>\n",
       "      <th></th>\n",
       "      <th></th>\n",
       "    </tr>\n",
       "  </thead>\n",
       "  <tbody>\n",
       "    <tr>\n",
       "      <th>0</th>\n",
       "      <td>15112</td>\n",
       "      <td>6285</td>\n",
       "    </tr>\n",
       "    <tr>\n",
       "      <th>1</th>\n",
       "      <td>347</td>\n",
       "      <td>756</td>\n",
       "    </tr>\n",
       "  </tbody>\n",
       "</table>\n",
       "</div>"
      ],
      "text/plain": [
       "predicted_yes_lr      0     1\n",
       "res1_yes                     \n",
       "0                 15112  6285\n",
       "1                   347   756"
      ]
     },
     "execution_count": 42,
     "metadata": {},
     "output_type": "execute_result"
    }
   ],
   "source": [
    "roc_lr, profit_lr, cm_lr = create_cm_roc_profit(intuit75k, 'predicted_yes_lr', 'predicted_lr')\n",
    "cm_lr"
   ]
  },
  {
   "cell_type": "code",
   "execution_count": 43,
   "metadata": {},
   "outputs": [
    {
     "name": "stdout",
     "output_type": "stream",
     "text": [
      "Accuracy is 0.7081333333333333\n",
      "F1 Score is 0.18614450365596727\n",
      "ROC AUC is 0.6952045369812521\n",
      "Profit is 35237.94\n"
     ]
    },
    {
     "data": {
      "text/html": [
       "<div>\n",
       "<style scoped>\n",
       "    .dataframe tbody tr th:only-of-type {\n",
       "        vertical-align: middle;\n",
       "    }\n",
       "\n",
       "    .dataframe tbody tr th {\n",
       "        vertical-align: top;\n",
       "    }\n",
       "\n",
       "    .dataframe thead th {\n",
       "        text-align: right;\n",
       "    }\n",
       "</style>\n",
       "<table border=\"1\" class=\"dataframe\">\n",
       "  <thead>\n",
       "    <tr style=\"text-align: right;\">\n",
       "      <th>predicted_yes_lr1</th>\n",
       "      <th>0</th>\n",
       "      <th>1</th>\n",
       "    </tr>\n",
       "    <tr>\n",
       "      <th>res1_yes</th>\n",
       "      <th></th>\n",
       "      <th></th>\n",
       "    </tr>\n",
       "  </thead>\n",
       "  <tbody>\n",
       "    <tr>\n",
       "      <th>0</th>\n",
       "      <td>15182</td>\n",
       "      <td>6215</td>\n",
       "    </tr>\n",
       "    <tr>\n",
       "      <th>1</th>\n",
       "      <td>352</td>\n",
       "      <td>751</td>\n",
       "    </tr>\n",
       "  </tbody>\n",
       "</table>\n",
       "</div>"
      ],
      "text/plain": [
       "predicted_yes_lr1      0     1\n",
       "res1_yes                      \n",
       "0                  15182  6215\n",
       "1                    352   751"
      ]
     },
     "execution_count": 43,
     "metadata": {},
     "output_type": "execute_result"
    }
   ],
   "source": [
    "roc_lr1, profit_lr1, cm_lr1 = create_cm_roc_profit(intuit75k, 'predicted_yes_lr1', 'predicted_lr1')\n",
    "cm_lr1"
   ]
  },
  {
   "cell_type": "code",
   "execution_count": 44,
   "metadata": {},
   "outputs": [
    {
     "name": "stdout",
     "output_type": "stream",
     "text": [
      "Accuracy is 0.7095111111111111\n",
      "F1 Score is 0.18584952665670154\n",
      "ROC AUC is 0.6937792306231151\n",
      "Profit is 34995.75\n"
     ]
    },
    {
     "data": {
      "text/html": [
       "<div>\n",
       "<style scoped>\n",
       "    .dataframe tbody tr th:only-of-type {\n",
       "        vertical-align: middle;\n",
       "    }\n",
       "\n",
       "    .dataframe tbody tr th {\n",
       "        vertical-align: top;\n",
       "    }\n",
       "\n",
       "    .dataframe thead th {\n",
       "        text-align: right;\n",
       "    }\n",
       "</style>\n",
       "<table border=\"1\" class=\"dataframe\">\n",
       "  <thead>\n",
       "    <tr style=\"text-align: right;\">\n",
       "      <th>predicted_yes_lr2</th>\n",
       "      <th>0</th>\n",
       "      <th>1</th>\n",
       "    </tr>\n",
       "    <tr>\n",
       "      <th>res1_yes</th>\n",
       "      <th></th>\n",
       "      <th></th>\n",
       "    </tr>\n",
       "  </thead>\n",
       "  <tbody>\n",
       "    <tr>\n",
       "      <th>0</th>\n",
       "      <td>15218</td>\n",
       "      <td>6179</td>\n",
       "    </tr>\n",
       "    <tr>\n",
       "      <th>1</th>\n",
       "      <td>357</td>\n",
       "      <td>746</td>\n",
       "    </tr>\n",
       "  </tbody>\n",
       "</table>\n",
       "</div>"
      ],
      "text/plain": [
       "predicted_yes_lr2      0     1\n",
       "res1_yes                      \n",
       "0                  15218  6179\n",
       "1                    357   746"
      ]
     },
     "execution_count": 44,
     "metadata": {},
     "output_type": "execute_result"
    }
   ],
   "source": [
    "roc_lr2, profit_lr2, cm_lr2 = create_cm_roc_profit(intuit75k, 'predicted_yes_lr2', 'predicted_lr2')\n",
    "cm_lr2"
   ]
  },
  {
   "cell_type": "code",
   "execution_count": 45,
   "metadata": {},
   "outputs": [
    {
     "name": "stdout",
     "output_type": "stream",
     "text": [
      "Accuracy is 0.7168444444444444\n",
      "F1 Score is 0.18809736204919078\n",
      "ROC AUC is 0.6941953801659437\n",
      "Profit is 34770.96\n"
     ]
    },
    {
     "data": {
      "text/html": [
       "<div>\n",
       "<style scoped>\n",
       "    .dataframe tbody tr th:only-of-type {\n",
       "        vertical-align: middle;\n",
       "    }\n",
       "\n",
       "    .dataframe tbody tr th {\n",
       "        vertical-align: top;\n",
       "    }\n",
       "\n",
       "    .dataframe thead th {\n",
       "        text-align: right;\n",
       "    }\n",
       "</style>\n",
       "<table border=\"1\" class=\"dataframe\">\n",
       "  <thead>\n",
       "    <tr style=\"text-align: right;\">\n",
       "      <th>predicted_yes_lr3</th>\n",
       "      <th>0</th>\n",
       "      <th>1</th>\n",
       "    </tr>\n",
       "    <tr>\n",
       "      <th>res1_yes</th>\n",
       "      <th></th>\n",
       "      <th></th>\n",
       "    </tr>\n",
       "  </thead>\n",
       "  <tbody>\n",
       "    <tr>\n",
       "      <th>0</th>\n",
       "      <td>15391</td>\n",
       "      <td>6006</td>\n",
       "    </tr>\n",
       "    <tr>\n",
       "      <th>1</th>\n",
       "      <td>365</td>\n",
       "      <td>738</td>\n",
       "    </tr>\n",
       "  </tbody>\n",
       "</table>\n",
       "</div>"
      ],
      "text/plain": [
       "predicted_yes_lr3      0     1\n",
       "res1_yes                      \n",
       "0                  15391  6006\n",
       "1                    365   738"
      ]
     },
     "execution_count": 45,
     "metadata": {},
     "output_type": "execute_result"
    }
   ],
   "source": [
    "roc_lr3, profit_lr3, cm_lr3 = create_cm_roc_profit(intuit75k, 'predicted_yes_lr3', 'predicted_lr3')\n",
    "cm_lr3"
   ]
  },
  {
   "cell_type": "code",
   "execution_count": 46,
   "metadata": {},
   "outputs": [
    {
     "data": {
      "text/html": [
       "<div>\n",
       "<style scoped>\n",
       "    .dataframe tbody tr th:only-of-type {\n",
       "        vertical-align: middle;\n",
       "    }\n",
       "\n",
       "    .dataframe tbody tr th {\n",
       "        vertical-align: top;\n",
       "    }\n",
       "\n",
       "    .dataframe thead th {\n",
       "        text-align: right;\n",
       "    }\n",
       "</style>\n",
       "<table border=\"1\" class=\"dataframe\">\n",
       "  <thead>\n",
       "    <tr style=\"text-align: right;\">\n",
       "      <th></th>\n",
       "      <th>model</th>\n",
       "      <th>profit</th>\n",
       "      <th>ROC_AUC_Score</th>\n",
       "    </tr>\n",
       "  </thead>\n",
       "  <tbody>\n",
       "    <tr>\n",
       "      <th>0</th>\n",
       "      <td>lr</td>\n",
       "      <td>35432.19</td>\n",
       "      <td>0.695835</td>\n",
       "    </tr>\n",
       "    <tr>\n",
       "      <th>1</th>\n",
       "      <td>lr1</td>\n",
       "      <td>35237.94</td>\n",
       "      <td>0.695205</td>\n",
       "    </tr>\n",
       "    <tr>\n",
       "      <th>2</th>\n",
       "      <td>lr2</td>\n",
       "      <td>34995.75</td>\n",
       "      <td>0.693779</td>\n",
       "    </tr>\n",
       "    <tr>\n",
       "      <th>3</th>\n",
       "      <td>lr3</td>\n",
       "      <td>34770.96</td>\n",
       "      <td>0.694195</td>\n",
       "    </tr>\n",
       "  </tbody>\n",
       "</table>\n",
       "</div>"
      ],
      "text/plain": [
       "  model    profit  ROC_AUC_Score\n",
       "0    lr  35432.19       0.695835\n",
       "1   lr1  35237.94       0.695205\n",
       "2   lr2  34995.75       0.693779\n",
       "3   lr3  34770.96       0.694195"
      ]
     },
     "execution_count": 46,
     "metadata": {},
     "output_type": "execute_result"
    }
   ],
   "source": [
    "peformance_df = pd.DataFrame({'model':['lr','lr1','lr2','lr3'],'profit':[profit_lr,profit_lr1,profit_lr2,profit_lr3],'ROC_AUC_Score':[roc_lr,roc_lr1,roc_lr2,roc_lr3]})\n",
    "peformance_df"
   ]
  },
  {
   "cell_type": "code",
   "execution_count": 47,
   "metadata": {},
   "outputs": [
    {
     "data": {
      "text/plain": [
       "<AxesSubplot:xlabel='Proportion of customers', ylabel='Cumulative gains'>"
      ]
     },
     "execution_count": 47,
     "metadata": {},
     "output_type": "execute_result"
    },
    {
     "data": {
      "image/png": "[encoded data removed]",
      "text/plain": [
       "<Figure size 432x288 with 1 Axes>"
      ]
     },
     "metadata": {
      "needs_background": "light"
     },
     "output_type": "display_data"
    }
   ],
   "source": [
    "rsm.gains_plot(intuit75k[intuit75k.training == 0], 'res1_yes', 1, pred = ['predicted_lr','predicted_lr1','predicted_lr2','predicted_lr3'])\n"
   ]
  },
  {
   "cell_type": "code",
   "execution_count": 48,
   "metadata": {},
   "outputs": [
    {
     "data": {
      "text/plain": [
       "<AxesSubplot:xlabel='Proportion of customers', ylabel='Profit'>"
      ]
     },
     "execution_count": 48,
     "metadata": {},
     "output_type": "execute_result"
    },
    {
     "data": {
      "image/png": "[encoded data removed]",
      "text/plain": [
       "<Figure size 432x288 with 1 Axes>"
      ]
     },
     "metadata": {
      "needs_background": "light"
     },
     "output_type": "display_data"
    }
   ],
   "source": [
    "rsm.profit_plot(df=intuit75k[intuit75k.training == 0],rvar='res1_yes',lev=1,pred=['predicted_lr','predicted_lr1','predicted_lr2','predicted_lr3'],cost=1.41,margin=60)\n"
   ]
  },
  {
   "cell_type": "code",
   "execution_count": 49,
   "metadata": {},
   "outputs": [
    {
     "data": {
      "text/plain": [
       "<AxesSubplot:xlabel='Proportion of customers', ylabel='Cumulative lift'>"
      ]
     },
     "execution_count": 49,
     "metadata": {},
     "output_type": "execute_result"
    },
    {
     "data": {
      "image/png": "[encoded data removed]",
      "text/plain": [
       "<Figure size 432x288 with 1 Axes>"
      ]
     },
     "metadata": {
      "needs_background": "light"
     },
     "output_type": "display_data"
    }
   ],
   "source": [
    "rsm.lift_plot(df=intuit75k[intuit75k.training == 0],rvar='res1_yes',lev=1,pred=['predicted_lr','predicted_lr1','predicted_lr2','predicted_lr3'])\n"
   ]
  },
  {
   "cell_type": "code",
   "execution_count": 50,
   "metadata": {},
   "outputs": [
    {
     "data": {
      "text/plain": [
       "<AxesSubplot:xlabel='Proportion of customers', ylabel='Return on Marketing Expenditures (ROME)'>"
      ]
     },
     "execution_count": 50,
     "metadata": {},
     "output_type": "execute_result"
    },
    {
     "data": {
      "image/png": "[encoded data removed]",
      "text/plain": [
       "<Figure size 432x288 with 1 Axes>"
      ]
     },
     "metadata": {
      "needs_background": "light"
     },
     "output_type": "display_data"
    }
   ],
   "source": [
    "rsm.ROME_plot(df=intuit75k[intuit75k.training == 0],rvar='res1_yes',lev=1,pred=['predicted_lr','predicted_lr1','predicted_lr2','predicted_lr3'], cost=1.41,margin=60)\n"
   ]
  },
  {
   "cell_type": "code",
   "execution_count": 51,
   "metadata": {},
   "outputs": [
    {
     "data": {
      "text/plain": [
       "0.31293333333333334"
      ]
     },
     "execution_count": 51,
     "metadata": {},
     "output_type": "execute_result"
    }
   ],
   "source": [
    "prop_reached = sum(intuit75k[intuit75k.training == 0]['predicted_yes_lr'])/len(intuit75k[intuit75k.training == 0])\n",
    "prop_reached"
   ]
  },
  {
   "cell_type": "code",
   "execution_count": 52,
   "metadata": {},
   "outputs": [
    {
     "data": {
      "text/plain": [
       "0.10737111205794632"
      ]
     },
     "execution_count": 52,
     "metadata": {},
     "output_type": "execute_result"
    }
   ],
   "source": [
    "response_rate = np.mean(intuit75k[(intuit75k.predicted_yes_lr == 1) & (intuit75k.training == 0)]['res1_yes'])\n",
    "response_rate"
   ]
  },
  {
   "cell_type": "code",
   "execution_count": 53,
   "metadata": {},
   "outputs": [],
   "source": [
    "total_biz = 801821\n",
    "already_resp = 38487\n",
    "population = total_biz - already_resp\n",
    "targets = population * prop_reached\n",
    "responses = targets * response_rate"
   ]
  },
  {
   "cell_type": "code",
   "execution_count": 54,
   "metadata": {},
   "outputs": [
    {
     "data": {
      "text/plain": [
       "1202070.903176"
      ]
     },
     "execution_count": 54,
     "metadata": {},
     "output_type": "execute_result"
    }
   ],
   "source": [
    "cost = targets * 1.41\n",
    "rev = responses * 60\n",
    "profit = rev - cost\n",
    "profit"
   ]
  },
  {
   "cell_type": "code",
   "execution_count": null,
   "metadata": {},
   "outputs": [],
   "source": [
    "intuit75k.head()"
   ]
  },
  {
   "cell_type": "code",
   "execution_count": null,
   "metadata": {},
   "outputs": [],
   "source": [
    "df_logit = intuit75k[['id','predicted_lr1']]\n",
    "df_logit.rename(columns = {'predicted_lr1':'prediction_logit'}, inplace = True)"
   ]
  },
  {
   "cell_type": "code",
   "execution_count": null,
   "metadata": {},
   "outputs": [],
   "source": [
    "df_logit"
   ]
  },
  {
   "cell_type": "code",
   "execution_count": 55,
   "metadata": {},
   "outputs": [
    {
     "data": {
      "text/plain": [
       "<AxesSubplot:xlabel='Proportion of customers', ylabel='Cumulative gains'>"
      ]
     },
     "execution_count": 55,
     "metadata": {},
     "output_type": "execute_result"
    },
    {
     "data": {
      "image/png": "[encoded data removed]",
      "text/plain": [
       "<Figure size 432x288 with 1 Axes>"
      ]
     },
     "metadata": {
      "needs_background": "light"
     },
     "output_type": "display_data"
    }
   ],
   "source": [
    "rsm.gains_plot(intuit75k[intuit75k.training == 0], 'res1_yes', 1, pred = ['predicted_lr'])\n"
   ]
  },
  {
   "cell_type": "code",
   "execution_count": 56,
   "metadata": {},
   "outputs": [
    {
     "data": {
      "text/plain": [
       "<AxesSubplot:xlabel='Proportion of customers', ylabel='Profit'>"
      ]
     },
     "execution_count": 56,
     "metadata": {},
     "output_type": "execute_result"
    },
    {
     "data": {
      "image/png": "[encoded data removed]",
      "text/plain": [
       "<Figure size 432x288 with 1 Axes>"
      ]
     },
     "metadata": {
      "needs_background": "light"
     },
     "output_type": "display_data"
    }
   ],
   "source": [
    "rsm.profit_plot(df=intuit75k[intuit75k.training == 0],rvar='res1_yes',lev=1,pred=['predicted_lr'],cost=1.41,margin=60)\n"
   ]
  },
  {
   "cell_type": "code",
   "execution_count": null,
   "metadata": {},
   "outputs": [],
   "source": []
  }
 ],
 "metadata": {
  "kernelspec": {
   "display_name": "Python 3",
   "language": "python",
   "name": "python3"
  },
  "language_info": {
   "codemirror_mode": {
    "name": "ipython",
    "version": 3
   },
   "file_extension": ".py",
   "mimetype": "text/x-python",
   "name": "python",
   "nbconvert_exporter": "python",
   "pygments_lexer": "ipython3",
   "version": "3.8.5"
  }
 },
 "nbformat": 4,
 "nbformat_minor": 4
}
